{
 "cells": [
  {
   "cell_type": "markdown",
   "id": "5ac6b6c95005224f",
   "metadata": {
    "collapsed": false
   },
   "source": [
    "# &#128214; Lab 3: Control Flow Analysis"
   ]
  },
  {
   "cell_type": "markdown",
   "id": "bc5eda7bb47e6eb4",
   "metadata": {
    "collapsed": false
   },
   "source": [
    "## &#128221; Exercise 1: Understanding Control Flow Graphs\n",
    "\n",
    "### &#127919; Objective\n",
    "To introduce you to Control Flow Graphs (CFGs) and demonstrate how they represent the flow of control in a program.\n",
    "\n",
    "---\n",
    "\n",
    "### &#10145; Task\n",
    "Parse a simple Python script into an AST and construct a CFG from the AST.\n",
    "\n",
    "---\n",
    "\n",
    "### &#128214; Background\n",
    "\n",
    "A Control Flow Graph (CFG) is a representation used to model the flow of control in a program. \n",
    "Each node in the CFG corresponds to an instruction. \n",
    "Each edge in the CFG represents a possible flow of control from one basic node to another.\n",
    "\n",
    "Understanding CFGs is important for various program analysis tasks, as they provide a high-level abstraction of a program's control flow, making it easier to reason about the program's behavior.\n",
    "\n",
    "In this exercise, we'll be constructing a CFG for a simple script using the AST we obtained in the previous exercises. \n",
    "For simplicity, we'll only consider top-level elements in the script to create nodes in the CFG. \n",
    "No need to worry about the actual control flow for now.\n",
    "\n",
    "---\n",
    "\n",
    "### &#128221; Instructions\n",
    "\n",
    "1. Use the `ControlFlowGraph` class and the `build_cfg` function provided.\n",
    "2. Parse the code provided into an AST using the `ast.parse` function.\n",
    "3. Build the CFG from the AST using the `build_cfg` function. For this exercise, only consider top-level elements (e.g., `ast.Assign`, `ast.Expr`, `ast.Call`) to create nodes in the CFG.\n",
    "4. Visualize the CFG using the `visualize` method of the `ControlFlowGraph` class.\n",
    "==> You can also use the `to_dot()` function of the `ControlFlowGraph` to generate a graph into the \"dot\" format and visualize it with graphviz. "
   ]
  },
  {
   "cell_type": "markdown",
   "id": "9c5bba2ba1060dd9",
   "metadata": {
    "collapsed": false
   },
   "source": [
    "### Import the necessary library\n",
    "\n",
    "&#128161; *In the following cell, we will import the library needed for this exercise:*\n",
    "- `ast`: a module of the python standard library to transform Python code in its AST representation\n",
    "- `graphviz`: a library to create directed graphs"
   ]
  },
  {
   "cell_type": "code",
   "execution_count": null,
   "id": "1ec67f57ed941bcd",
   "metadata": {
    "collapsed": false
   },
   "outputs": [],
   "source": [
    "import ast\n",
    "import graphviz"
   ]
  },
  {
   "cell_type": "markdown",
   "id": "40e6a56ae1aa275e",
   "metadata": {
    "collapsed": false
   },
   "source": [
    "Python code\n",
    "\n",
    "&#128161; The following cell contains a string that represents the Python code that will be analyzed through this exercise"
   ]
  },
  {
   "cell_type": "code",
   "execution_count": null,
   "id": "d9bb60249b50e294",
   "metadata": {
    "collapsed": false
   },
   "outputs": [],
   "source": [
    "code = \"\"\"\n",
    "x = 10\n",
    "y = x + 5\n",
    "print(y)\n",
    "\"\"\""
   ]
  },
  {
   "cell_type": "markdown",
   "id": "543091553d82937",
   "metadata": {
    "collapsed": false
   },
   "source": [
    "### Utility Control Flow Graph class\n",
    "\n",
    "&#128161; The following cell contains a utility class to build a Control Glow Graph. \n",
    "You have to use this class to build the control flow graph."
   ]
  },
  {
   "cell_type": "code",
   "execution_count": null,
   "id": "f919b176b5edc5a3",
   "metadata": {
    "collapsed": false
   },
   "outputs": [],
   "source": [
    "class ControlFlowGraph:\n",
    "    \"\"\"\n",
    "    A class representing a Control Flow Graph (CFG).\n",
    "\n",
    "    Attributes:\n",
    "    nodes: A list where each element is a statement.\n",
    "    edges: A list of tuples representing edges between nodes, where each tuple contains a pair of nodes.\n",
    "\n",
    "    Methods:\n",
    "    add_node:\n",
    "        Adds a new node with the given statement to the graph, returning the new node.\n",
    "    add_edge:\n",
    "        Adds an edge between the specified node indices to the graph.\n",
    "    visualize:\n",
    "        Prints a visualization of the graph to the console.\n",
    "    to_dot:\n",
    "        Returns a DOT-format string representing the graph.\n",
    "    \"\"\"\n",
    "\n",
    "    def __init__(self):\n",
    "        \"\"\"\n",
    "        Initializes a new instance of the ControlFlowGraph class, with empty nodes and edges.\n",
    "        \"\"\"\n",
    "        self.nodes = []\n",
    "        self.edges = []\n",
    "\n",
    "    def add_node(self, statement):\n",
    "        \"\"\"\n",
    "        Adds a new node with the given statement to the graph.\n",
    "\n",
    "        Parameters:\n",
    "        statement: The statement associated with the new node.\n",
    "\n",
    "        Returns:\n",
    "        The node\n",
    "        \"\"\"\n",
    "        self.nodes.append(statement)\n",
    "        return statement\n",
    "\n",
    "    def add_edge(self, node1, node2):\n",
    "        \"\"\"\n",
    "        Adds an edge between the specified nodes to the graph.\n",
    "\n",
    "        Parameters:\n",
    "        node1: The source node.\n",
    "        node2: The target node.\n",
    "        \"\"\"\n",
    "        if (node1, node2) not in self.edges:\n",
    "            self.edges.append((node1, node2))\n",
    "\n",
    "    def visualize(self):\n",
    "        \"\"\"\n",
    "        Prints a visualization of the graph to the console.\n",
    "        Each edge is printed as a line in the format 'source -> target'.\n",
    "        \"\"\"\n",
    "        for edge in self.edges:\n",
    "            source, target = edge\n",
    "            print(f'{source} -> {target}')\n",
    "\n",
    "    def to_dot(self):\n",
    "        \"\"\"\n",
    "        Returns a DOT-format string representing the graph (for vizualization purposes).\n",
    "\n",
    "        Returns:\n",
    "        str: A string in DOT format.\n",
    "        \"\"\"\n",
    "        dot_lines = ['digraph cfg {']\n",
    "        stmt_to_index = {}\n",
    "        for index, statement in enumerate(self.nodes):\n",
    "            stmt_to_index[statement] = index\n",
    "            dot_lines.append(f'    node{index} [label=\"{statement}\"];')\n",
    "        for edge in self.edges:\n",
    "            source, target = edge\n",
    "            dot_lines.append(f'    node{stmt_to_index[source]} -> node{stmt_to_index[target]};')\n",
    "        dot_lines.append('}')\n",
    "        return '\\n'.join(dot_lines)"
   ]
  },
  {
   "cell_type": "markdown",
   "id": "16c62da964cfb38d",
   "metadata": {
    "collapsed": false
   },
   "source": [
    "### Function to create the control flow graph \n",
    "\n",
    "&#128161; In the following cell you will implement the `build_cfg` function which takes an AST as a parameter and a `ControlFlowGraph` object too.\n",
    "\n",
    "You can only focus on top level elements and iterate over them with the `ast.body` element.\n",
    "\n",
    "&#9888; Be sure to handle edges correctly with the control flow relationship."
   ]
  },
  {
   "cell_type": "code",
   "execution_count": null,
   "id": "dec2fac49891c4bf",
   "metadata": {
    "collapsed": false
   },
   "outputs": [],
   "source": [
    "def build_cfg(tree, cfg):\n",
    "    \"\"\"\n",
    "    Builds a Control Flow Graph (CFG) from the given Abstract Syntax Tree (AST).\n",
    "\n",
    "    This function iterates through the top-level statements of the provided AST,\n",
    "    creating nodes and edges in the CFG to represent the flow of control.\n",
    "\n",
    "    Parameters:\n",
    "    tree: The Abstract Syntax Tree from which to build the CFG.\n",
    "    cfg: An instance of the ControlFlowGraph class to which nodes and edges will be added.\n",
    "    \"\"\"\n",
    "    \n",
    "    "
   ]
  },
  {
   "cell_type": "markdown",
   "id": "1f7e693e644f724c",
   "metadata": {
    "collapsed": false
   },
   "source": [
    "#### Call the function\n",
    "\n",
    "&#128161; In the following cell, you will parse the code into an AST, build a `ControlFlowGraph` object and use those to call the `build_cfg` function."
   ]
  },
  {
   "cell_type": "code",
   "execution_count": null,
   "id": "2bf9446b7d5ec2e0",
   "metadata": {
    "collapsed": false
   },
   "outputs": [],
   "source": []
  },
  {
   "cell_type": "markdown",
   "id": "1727dd93de5f5dde",
   "metadata": {
    "collapsed": false
   },
   "source": [
    "### Visalize the CFG\n",
    "\n",
    "&#128161; In the following cell, you will call the `visualize()` function of the `ControlFlowGraph` class to display the CFG in a textual form."
   ]
  },
  {
   "cell_type": "code",
   "execution_count": null,
   "id": "c0f35b6e95c85089",
   "metadata": {
    "collapsed": false
   },
   "outputs": [],
   "source": []
  },
  {
   "cell_type": "markdown",
   "id": "5bdd8709f446470f",
   "metadata": {
    "collapsed": false
   },
   "source": [
    "### Visualization of the graph\n",
    "\n",
    "&#128161; In the following cell, you will create a `Digraph` of the `graphviz` library using the `Source()` function that takes a `dot` formatted string as a parameter, and you will display the graph as in the previous Lab.\n",
    "\n",
    "Examples:\n",
    "\n",
    "```python\n",
    "dot_string = ...\n",
    "graph = graphviz.Source(dot_string)\n",
    "graph\n",
    "```\n"
   ]
  },
  {
   "cell_type": "code",
   "execution_count": null,
   "id": "9fef2e0951e202c7",
   "metadata": {
    "collapsed": false
   },
   "outputs": [],
   "source": []
  },
  {
   "cell_type": "markdown",
   "id": "c5d985b90dafbdfd",
   "metadata": {
    "collapsed": false
   },
   "source": [
    "&#10067; Does the CFG match your expectations? Does it faithfully represent the control flow of the piece of code provided?"
   ]
  },
  {
   "cell_type": "markdown",
   "id": "65460d64d1227d66",
   "metadata": {
    "collapsed": false
   },
   "source": [
    "### Let us see a more sophisticated piece of code, build and visalize the CFG\n",
    "\n",
    "&#128161; The following cell contains a string that represents the Python code that will be analyzed from now on"
   ]
  },
  {
   "cell_type": "code",
   "execution_count": null,
   "id": "d5ea131ff260b1d8",
   "metadata": {
    "collapsed": false
   },
   "outputs": [],
   "source": [
    "code = \"\"\"\n",
    "x = 10\n",
    "y = x + 5\n",
    "print(y)\n",
    "\n",
    "z = y - 2\n",
    "print(z)\n",
    "\n",
    "numbers = [x, y, z]\n",
    "print(numbers)\n",
    "\"\"\""
   ]
  },
  {
   "cell_type": "markdown",
   "id": "641d338ed9b14761",
   "metadata": {
    "collapsed": false
   },
   "source": [
    "### Build the CFG\n",
    "\n",
    "&#10145; As previously, build the CFG of this piece of code"
   ]
  },
  {
   "cell_type": "code",
   "execution_count": null,
   "id": "ac06ea59007ebda1",
   "metadata": {
    "collapsed": false
   },
   "outputs": [],
   "source": []
  },
  {
   "cell_type": "markdown",
   "id": "42a75511cece7d5",
   "metadata": {
    "collapsed": false
   },
   "source": [
    "### Visalize the CFG\n",
    "\n",
    "&#128161; In the following cell, you will call the `visualize()` function of the `ControlFlowGraph` class to display the CFG in a textual form."
   ]
  },
  {
   "cell_type": "code",
   "execution_count": null,
   "id": "ebbeadbea8248e26",
   "metadata": {
    "collapsed": false
   },
   "outputs": [],
   "source": []
  },
  {
   "cell_type": "markdown",
   "id": "e8d1ab155b6c4c30",
   "metadata": {
    "collapsed": false
   },
   "source": [
    "### Visualization of the graph\n",
    "\n",
    "&#128161; In the following cell, you will create a `Digraph` of the `graphviz` library using the `Source()` function that takes a `dot` formatted string as a parameter, and you will display the graph as in the previous Lab."
   ]
  },
  {
   "cell_type": "code",
   "execution_count": null,
   "id": "3023a978936f89fa",
   "metadata": {
    "collapsed": false
   },
   "outputs": [],
   "source": []
  },
  {
   "cell_type": "markdown",
   "id": "163de30518411b97",
   "metadata": {
    "collapsed": false
   },
   "source": [
    "&#10067; Does the CFG match your expectations? Does it faithfully represent the control flow of the piece of code provided?"
   ]
  },
  {
   "cell_type": "markdown",
   "id": "b26dc5f140cb3ceb",
   "metadata": {
    "collapsed": false
   },
   "source": [
    "### Let us now see a piece of code with branching\n",
    "\n",
    "&#128161; The following cell contains a string that represents the Python code that will be analyzed from now on"
   ]
  },
  {
   "cell_type": "code",
   "execution_count": null,
   "id": "1753825338f9b078",
   "metadata": {
    "collapsed": false
   },
   "outputs": [],
   "source": [
    "code = \"\"\"\n",
    "x = 10\n",
    "y = x + 5\n",
    "print(y)\n",
    "\n",
    "z = y - 2\n",
    "print(z)\n",
    "\n",
    "numbers = [x, y, z]\n",
    "print(numbers)\n",
    "\n",
    "if y > 10:\n",
    "    print(\"y is greater than 10\")\n",
    "else:\n",
    "    print(\"y is not greater than 10\")\n",
    "\"\"\""
   ]
  },
  {
   "cell_type": "markdown",
   "id": "cfb4fd910869b7af",
   "metadata": {
    "collapsed": false
   },
   "source": [
    "### Build the CFG\n",
    "\n",
    "&#10145; As previously, build the CFG of this piece of code"
   ]
  },
  {
   "cell_type": "code",
   "execution_count": null,
   "id": "49c259acff472270",
   "metadata": {
    "collapsed": false
   },
   "outputs": [],
   "source": []
  },
  {
   "cell_type": "markdown",
   "id": "6b793e16aa0b712",
   "metadata": {
    "collapsed": false
   },
   "source": [
    "### Visalize the CFG\n",
    "\n",
    "&#128161; In the following cell, you will call the `visualize()` function of the `ControlFlowGraph` class to display the CFG in a textual form."
   ]
  },
  {
   "cell_type": "code",
   "execution_count": null,
   "id": "15999e2de33c29ec",
   "metadata": {
    "collapsed": false
   },
   "outputs": [],
   "source": []
  },
  {
   "cell_type": "markdown",
   "id": "56dbcb4d2b32383d",
   "metadata": {
    "collapsed": false
   },
   "source": [
    "### Visualization of the graph\n",
    "\n",
    "&#128161; In the following cell, you will create a `Digraph` of the `graphviz` library using the `Source()` function that takes a `dot` formatted string as a parameter, and you will display the graph as in the previous Lab."
   ]
  },
  {
   "cell_type": "code",
   "execution_count": null,
   "id": "d62460aee4b12ce",
   "metadata": {
    "collapsed": false
   },
   "outputs": [],
   "source": []
  },
  {
   "cell_type": "markdown",
   "id": "98223a61882905b0",
   "metadata": {
    "collapsed": false
   },
   "source": [
    "&#10067; Does the CFG match your expectations? Does it faithfully represent the control flow of the piece of code provided?"
   ]
  },
  {
   "cell_type": "markdown",
   "id": "8dcff2283ab29508",
   "metadata": {
    "collapsed": false
   },
   "source": [
    "### &#10067; Questions"
   ]
  },
  {
   "cell_type": "markdown",
   "id": "10e8e4410ab7e9ad",
   "metadata": {
    "collapsed": false
   },
   "source": [
    "### Were you able to construct the CFG with nodes representing each top-level statement?"
   ]
  },
  {
   "cell_type": "markdown",
   "id": "93905f399d385d4",
   "metadata": {
    "collapsed": false
   },
   "source": [
    "### Were you able to understand the relationship between the AST and the CFG?"
   ]
  },
  {
   "cell_type": "markdown",
   "id": "f57ec5ff05587ea3",
   "metadata": {
    "collapsed": false
   },
   "source": [
    "### Did you identify any limitation?"
   ]
  },
  {
   "cell_type": "markdown",
   "id": "d670b7136064b6ca",
   "metadata": {
    "collapsed": false
   },
   "source": [
    "## &#128214; Exercise 2: CFG for Conditional Statements\n",
    "\n",
    "### &#127919; Objective\n",
    "To teach you how conditional statements are represented in CFGs.\n",
    "\n",
    "---\n",
    "\n",
    "### &#10145; Task\n",
    "Modify the CFG construction code to handle if-else statements.\n",
    "\n",
    "---\n",
    "\n",
    "### &#128214; Background\n",
    "\n",
    "In a Control Flow Graph (CFG), nodes represent statements of code, and edges represent the flow of control between these nodes. \n",
    "Conditional statements like `if-else` are important in determining the control flow as they can lead to different nodes of code being executed. \n",
    "\n",
    "In a CFG, an `if` statement introduces a branch, where one path follows the `if` block and another path bypasses it. \n",
    "Similarly, an `if-else` statement introduces two branches, one for the `if` block and another for the `else` block.\n",
    "\n",
    "---\n",
    "\n",
    "### &#128221; Instructions\n",
    "\n",
    "1. Use the `ControlFlowGraph` class provided in the previous exercise.\n",
    "2. Modify the `build_cfg` function to handle `ast.If` nodes to reflect the branching caused by `if-else` statements.\n",
    "3. Ensure that your CFG correctly represents the control flow.\n",
    "4. Visualize the CFG using the visualize method of the ControlFlowGraph class."
   ]
  },
  {
   "cell_type": "markdown",
   "id": "ce52e646ccc8a20e",
   "metadata": {
    "collapsed": false
   },
   "source": [
    "### Let us now see a piece of code with branching\n",
    "\n",
    "&#128161; The following cell contains a string that represents the Python code that will be analyzed from now on"
   ]
  },
  {
   "cell_type": "code",
   "execution_count": null,
   "id": "84efc1d6bb27873",
   "metadata": {
    "collapsed": false
   },
   "outputs": [],
   "source": [
    "code = \"\"\"\n",
    "x = 10\n",
    "if x > 5:\n",
    "    y = x + 5\n",
    "else:\n",
    "    y = x - 5\n",
    "print(y)\n",
    "\"\"\""
   ]
  },
  {
   "cell_type": "markdown",
   "id": "1bb163f94ef1c3aa",
   "metadata": {
    "collapsed": false
   },
   "source": [
    "### Function to create the control flow graph \n",
    "\n",
    "&#128161; In the following cell you will modify the `build_cfg` function which takes an AST as a parameter and a `ControlFlowGraph` object too.\n",
    "\n",
    "Do exactly the same building as for the previous exercise, but this time, take branching instructions into account."
   ]
  },
  {
   "cell_type": "code",
   "execution_count": null,
   "id": "a38fc14fafe9c108",
   "metadata": {
    "collapsed": false
   },
   "outputs": [],
   "source": [
    "def build_cfg(node, cfg, parent=None):\n",
    "    \"\"\"\n",
    "    Recursively builds a Control Flow Graph (CFG) from an Abstract Syntax Tree (AST).\n",
    "    \n",
    "    Parameters:\n",
    "    node: The current node in the AST.\n",
    "    cfg: An instance of ControlFlowGraph to which nodes and edges will be added.\n",
    "    parent: A list of parent nodes from which edges to the current node will be drawn. \n",
    "    \n",
    "    Returns:    \n",
    "    list: A list of current nodes which will act as parents for the next level of recursion.\n",
    "    \"\"\"\n",
    "    "
   ]
  },
  {
   "cell_type": "markdown",
   "id": "c32dc672543c582a",
   "metadata": {
    "collapsed": false
   },
   "source": [
    "#### Call the function\n",
    "\n",
    "&#128161; In the following cell, you will parse the code into an AST, build a `ControlFlowGraph` object and use those to call the `build_cfg` function."
   ]
  },
  {
   "cell_type": "code",
   "execution_count": null,
   "id": "d0c051152a62c5ce",
   "metadata": {
    "collapsed": false
   },
   "outputs": [],
   "source": []
  },
  {
   "cell_type": "markdown",
   "id": "603b2473f1fb77c",
   "metadata": {
    "collapsed": false
   },
   "source": [
    "### Visalize the CFG\n",
    "\n",
    "&#128161; In the following cell, you will call the `visualize()` function of the `ControlFlowGraph` class to display the CFG in a textual form."
   ]
  },
  {
   "cell_type": "code",
   "execution_count": null,
   "id": "1c2f9fe56b24c836",
   "metadata": {
    "collapsed": false
   },
   "outputs": [],
   "source": []
  },
  {
   "cell_type": "markdown",
   "id": "c9ccec9736b89aba",
   "metadata": {
    "collapsed": false
   },
   "source": [
    "### Visualization of the graph\n",
    "\n",
    "&#128161; In the following cell, you will create a `Digraph` of the `graphviz` library using the `Source()` function that takes a `dot` formatted string as a parameter, and you will display the graph."
   ]
  },
  {
   "cell_type": "code",
   "execution_count": null,
   "id": "1c2892b9b06374e",
   "metadata": {
    "collapsed": false
   },
   "outputs": [],
   "source": []
  },
  {
   "cell_type": "markdown",
   "id": "7385838dd806a06",
   "metadata": {
    "collapsed": false
   },
   "source": [
    "### &#10067; Questions"
   ]
  },
  {
   "cell_type": "markdown",
   "id": "c82dc2a34f43ddf7",
   "metadata": {
    "collapsed": false
   },
   "source": [
    "#### Were you able to modify the build_cfg function to handle if-else statements?"
   ]
  },
  {
   "cell_type": "markdown",
   "id": "b46ba2f1203777a4",
   "metadata": {
    "collapsed": false
   },
   "source": [
    "#### Does your CFG correctly represent the control flow of the provided script?"
   ]
  },
  {
   "cell_type": "markdown",
   "id": "dc51ea32d9754afc",
   "metadata": {
    "collapsed": false
   },
   "source": [
    "#### Were you able to visualize and understand the branching caused by if-else statements in the CFG?"
   ]
  },
  {
   "cell_type": "markdown",
   "id": "ce97ac6cd0d5eb16",
   "metadata": {
    "collapsed": false
   },
   "source": [
    "## &#128214; Exercise 3: CFG for Loops\n",
    "\n",
    "### &#127919; Objective\n",
    "To introduce you with how looping constructs are represented in CFGs.\n",
    "\n",
    "---\n",
    "\n",
    "### &#10145; Task\n",
    "Modify the CFG construction code to handle `for` and `while` loops.\n",
    "\n",
    "---\n",
    "\n",
    "### &#128214; Background\n",
    "\n",
    "In a CFG, a `for` or `while` loop creates a cycle. \n",
    "The entry to the loop, the body of the loop, and the exit from the loop are important aspects that need to be correctly reflected in the CFG.\n",
    "\n",
    "---\n",
    "\n",
    "### &#128221; Instructions\n",
    "\n",
    "1. Utilize the `ControlFlowGraph` class from the previous exercises.\n",
    "2. Modify the `build_cfg` function to handle `ast.For` and `ast.While` nodes to reflect the looping constructs in the CFG.\n",
    "   - For a `for` loop, create a node for the loop condition, and ensure that the CFG correctly represents the entry, body, and exit of the loop.\n",
    "   - For a `while` loop, similarly, create a node for the loop condition, and ensure that the CFG correctly represents the entry, body, and exit of the loop.\n",
    "   - For simplicity, we make the hypothesis that there are no `break` or `continue` statements.\n",
    "3. Ensure that your CFG accurately depicts the control flow within and around loops.\n",
    "4. Visualize the CFG using the visualize method of the `ControlFlowGraph` class to validate your implementation."
   ]
  },
  {
   "cell_type": "markdown",
   "id": "b975f946a641078e",
   "metadata": {
    "collapsed": false
   },
   "source": [
    "### Let us now see two pieces of code with loops\n",
    "\n",
    "&#128161; The following cells contains two strings that represents the Python codes that will be analyzed from now on"
   ]
  },
  {
   "cell_type": "code",
   "execution_count": null,
   "id": "714afce1d5840208",
   "metadata": {
    "collapsed": false
   },
   "outputs": [],
   "source": [
    "code_while = \"\"\"\n",
    "y = 10\n",
    "while y > 0:\n",
    "    y = y - 1\n",
    "    print(y)\n",
    "print(1)\n",
    "\"\"\""
   ]
  },
  {
   "cell_type": "code",
   "execution_count": null,
   "id": "d183d6b30cd5326",
   "metadata": {
    "collapsed": false
   },
   "outputs": [],
   "source": [
    "code_for = \"\"\"\n",
    "x = 0\n",
    "for i in range(3):\n",
    "    x = x + i\n",
    "print(x)\n",
    "\"\"\""
   ]
  },
  {
   "cell_type": "markdown",
   "id": "4ac0559625e13699",
   "metadata": {
    "collapsed": false
   },
   "source": [
    "### Function to create the control flow graph \n",
    "\n",
    "&#128161; In the following cell you will modify the `build_cfg` function which takes an AST as a parameter and a `ControlFlowGraph` object too.\n",
    "\n",
    "Do exactly the same building as for the previous exercise, but this time, take also loop instructions into account."
   ]
  },
  {
   "cell_type": "code",
   "execution_count": null,
   "id": "a85f1b216cea8c83",
   "metadata": {
    "collapsed": false
   },
   "outputs": [],
   "source": [
    "def build_cfg(node, cfg, parent=None):\n",
    "    \"\"\"\n",
    "    Recursively builds a Control Flow Graph (CFG) from an Abstract Syntax Tree (AST) node, considering various types of statements including assignment, expression, conditional, loop, and module level statements.\n",
    "\n",
    "    Parameters:\n",
    "    node: The current node in the AST.\n",
    "    cfg: An instance of ControlFlowGraph to which nodes and edges will be added.\n",
    "    parent: A list of parent nodes from which edges to the current node will be drawn. \n",
    "    \n",
    "    Returns:\n",
    "    list: A list of current nodes which will act as parents for the next level of recursion.\n",
    "    \"\"\"\n",
    "    \n"
   ]
  },
  {
   "cell_type": "markdown",
   "id": "4e917f39a69cc29b",
   "metadata": {
    "collapsed": false
   },
   "source": [
    "#### Call the function\n",
    "\n",
    "&#128161; In the following cell, you will parse the code into an AST, build a `ControlFlowGraph` object and use those to call the `build_cfg` function for the `while` loop code."
   ]
  },
  {
   "cell_type": "code",
   "execution_count": null,
   "id": "1b4eee85ef69f67c",
   "metadata": {
    "collapsed": false
   },
   "outputs": [],
   "source": []
  },
  {
   "cell_type": "markdown",
   "id": "2f8d7eb725d5a47",
   "metadata": {
    "collapsed": false
   },
   "source": [
    "### Visalize the CFG\n",
    "\n",
    "&#128161; In the following cell, you will call the `visualize()` function of the `ControlFlowGraph` class to display the CFG in a textual form."
   ]
  },
  {
   "cell_type": "code",
   "execution_count": null,
   "id": "14de1e14ead2ee73",
   "metadata": {
    "collapsed": false
   },
   "outputs": [],
   "source": []
  },
  {
   "cell_type": "markdown",
   "id": "dcb07a25cc24c1d3",
   "metadata": {
    "collapsed": false
   },
   "source": [
    "### Visualization of the graph\n",
    "\n",
    "&#128161; In the following cell, you will create a `Digraph` of the `graphviz` library using the `Source()` function that takes a `dot` formatted string as a parameter, and you will display the graph."
   ]
  },
  {
   "cell_type": "code",
   "execution_count": null,
   "id": "20ca33eb08ad7de6",
   "metadata": {
    "collapsed": false
   },
   "outputs": [],
   "source": []
  },
  {
   "cell_type": "markdown",
   "id": "5d9168646331a9fe",
   "metadata": {
    "collapsed": false
   },
   "source": [
    "#### Call the function\n",
    "\n",
    "&#128161; In the following cell, you will parse the code into an AST, build a `ControlFlowGraph` object and use those to call the `build_cfg` function for the `for` loop code."
   ]
  },
  {
   "cell_type": "code",
   "execution_count": null,
   "id": "774599ca7250a36b",
   "metadata": {
    "collapsed": false
   },
   "outputs": [],
   "source": []
  },
  {
   "cell_type": "markdown",
   "id": "6a17de254745d3f7",
   "metadata": {
    "collapsed": false
   },
   "source": [
    "### Visalize the CFG\n",
    "\n",
    "&#128161; In the following cell, you will call the `visualize()` function of the `ControlFlowGraph` class to display the CFG in a textual form."
   ]
  },
  {
   "cell_type": "code",
   "execution_count": null,
   "id": "429ac844f98c11e6",
   "metadata": {
    "collapsed": false
   },
   "outputs": [],
   "source": []
  },
  {
   "cell_type": "markdown",
   "id": "98c50b3d68e30f13",
   "metadata": {
    "collapsed": false
   },
   "source": [
    "### Visualization of the graph\n",
    "\n",
    "&#128161; In the following cell, you will create a `Digraph` of the `graphviz` library using the `Source()` function that takes a `dot` formatted string as a parameter, and you will display the graph."
   ]
  },
  {
   "cell_type": "code",
   "execution_count": null,
   "id": "2e07db0342ea57df",
   "metadata": {
    "collapsed": false
   },
   "outputs": [],
   "source": []
  },
  {
   "cell_type": "markdown",
   "id": "28c1977d3a3fe6c6",
   "metadata": {
    "collapsed": false
   },
   "source": [
    "### &#10067; Questions"
   ]
  },
  {
   "cell_type": "markdown",
   "id": "e3cabf8df6c48f51",
   "metadata": {
    "collapsed": false
   },
   "source": [
    "#### How would the CFG change if the loop contains a continue statement? Illustrate with an example."
   ]
  },
  {
   "cell_type": "markdown",
   "id": "4d4f3db9f32bb4c",
   "metadata": {
    "collapsed": false
   },
   "source": [
    "#### Explain the challenges in handling nested loops while constructing a CFG. How did you overcome these challenges in your implementation?"
   ]
  }
 ],
 "metadata": {
  "kernelspec": {
   "display_name": "Python 3 (ipykernel)",
   "language": "python",
   "name": "python3"
  },
  "language_info": {
   "codemirror_mode": {
    "name": "ipython",
    "version": 3
   },
   "file_extension": ".py",
   "mimetype": "text/x-python",
   "name": "python",
   "nbconvert_exporter": "python",
   "pygments_lexer": "ipython3",
   "version": "3.9.6"
  }
 },
 "nbformat": 4,
 "nbformat_minor": 5
}
